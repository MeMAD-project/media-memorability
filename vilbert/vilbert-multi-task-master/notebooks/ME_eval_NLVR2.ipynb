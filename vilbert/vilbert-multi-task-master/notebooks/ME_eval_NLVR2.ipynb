{
 "cells": [
  {
   "cell_type": "markdown",
   "metadata": {},
   "source": [
    "# Inference"
   ]
  },
  {
   "cell_type": "markdown",
   "metadata": {},
   "source": [
    "## Imports & Args"
   ]
  },
  {
   "cell_type": "code",
   "execution_count": 1,
   "metadata": {},
   "outputs": [
    {
     "name": "stdout",
     "output_type": "stream",
     "text": [
      "WARNING:tensorflow:From /home/aloui/miniconda3/envs/vilbert-mt/lib/python3.6/site-packages/tensorpack/callbacks/hooks.py:17: The name tf.train.SessionRunHook is deprecated. Please use tf.estimator.SessionRunHook instead.\n",
      "\n",
      "WARNING:tensorflow:From /home/aloui/miniconda3/envs/vilbert-mt/lib/python3.6/site-packages/tensorpack/tfutils/optimizer.py:18: The name tf.train.Optimizer is deprecated. Please use tf.compat.v1.train.Optimizer instead.\n",
      "\n",
      "WARNING:tensorflow:From /home/aloui/miniconda3/envs/vilbert-mt/lib/python3.6/site-packages/tensorpack/tfutils/sesscreate.py:20: The name tf.train.SessionCreator is deprecated. Please use tf.compat.v1.train.SessionCreator instead.\n",
      "\n"
     ]
    }
   ],
   "source": [
    "import argparse\n",
    "import json\n",
    "import logging\n",
    "import os\n",
    "import random\n",
    "from io import open\n",
    "import numpy as np\n",
    "import math\n",
    "import _pickle as cPickle\n",
    "from scipy.stats import spearmanr\n",
    "\n",
    "from tensorboardX import SummaryWriter\n",
    "from tqdm import tqdm\n",
    "from bisect import bisect\n",
    "import yaml\n",
    "from easydict import EasyDict as edict\n",
    "import sys\n",
    "import pdb\n",
    "\n",
    "import torch\n",
    "import torch.nn.functional as F\n",
    "import torch.nn as nn\n",
    "\n",
    "from vilbert.task_utils import (\n",
    "    LoadDatasetEval,\n",
    "    LoadLosses,\n",
    "    ForwardModelsTrain,\n",
    "    ForwardModelsVal,\n",
    "    EvaluatingModel,\n",
    ")\n",
    "\n",
    "import vilbert.utils as utils\n",
    "import torch.distributed as dist"
   ]
  },
  {
   "cell_type": "code",
   "execution_count": 2,
   "metadata": {},
   "outputs": [],
   "source": [
    "def evaluate(\n",
    "    args,\n",
    "    task_dataloader_val,\n",
    "    task_stop_controller,\n",
    "    task_cfg,\n",
    "    device,\n",
    "    task_id,\n",
    "    model,\n",
    "    task_losses,\n",
    "    epochId,\n",
    "    default_gpu,\n",
    "    tbLogger,\n",
    "):\n",
    "\n",
    "    model.eval()\n",
    "    for i, batch in enumerate(task_dataloader_val[task_id]):\n",
    "        loss, score, batch_size = ForwardModelsVal(\n",
    "            args, task_cfg, device, task_id, batch, model, task_losses\n",
    "        )\n",
    "        tbLogger.step_val(\n",
    "            epochId, float(loss), float(score), task_id, batch_size, \"val\"\n",
    "        )\n",
    "        if default_gpu:\n",
    "            sys.stdout.write(\"%d/%d\\r\" % (i, len(task_dataloader_val[task_id])))\n",
    "            sys.stdout.flush()\n",
    "\n",
    "    # update the multi-task scheduler.\n",
    "    task_stop_controller[task_id].step(tbLogger.getValScore(task_id))\n",
    "    score = tbLogger.showLossVal(task_id, task_stop_controller)"
   ]
  },
  {
   "cell_type": "code",
   "execution_count": 3,
   "metadata": {},
   "outputs": [],
   "source": [
    "logging.basicConfig(\n",
    "    format=\"%(asctime)s - %(levelname)s - %(name)s -   %(message)s\",\n",
    "    datefmt=\"%m/%d/%Y %H:%M:%S\",\n",
    "    level=logging.INFO,\n",
    ")\n",
    "logger = logging.getLogger(__name__)"
   ]
  },
  {
   "cell_type": "code",
   "execution_count": 4,
   "metadata": {},
   "outputs": [
    {
     "data": {
      "text/plain": [
       "_StoreTrueAction(option_strings=['--task_specific_tokens'], dest='task_specific_tokens', nargs=0, const=True, default=False, type=None, choices=None, help='whether to use task specific tokens for the multi-task learning.', metavar=None)"
      ]
     },
     "execution_count": 4,
     "metadata": {},
     "output_type": "execute_result"
    }
   ],
   "source": [
    "parser = argparse.ArgumentParser()\n",
    "\n",
    "parser.add_argument(\n",
    "    \"--bert_model\",\n",
    "    default=\"bert-base-uncased\",\n",
    "    type=str,\n",
    "    help=\"Bert pre-trained model selected in the list: bert-base-uncased, \"\n",
    "    \"bert-large-uncased, bert-base-cased, bert-base-multilingual, bert-base-chinese.\",\n",
    ")\n",
    "parser.add_argument(\n",
    "    \"--from_pretrained\",\n",
    "    default=\"bert-base-uncased\",\n",
    "    type=str,\n",
    "    help=\"Bert pre-trained model selected in the list: bert-base-uncased, \"\n",
    "    \"bert-large-uncased, bert-base-cased, bert-base-multilingual, bert-base-chinese.\",\n",
    ")\n",
    "parser.add_argument(\n",
    "    \"--output_dir\",\n",
    "    default=\"results\",\n",
    "    type=str,\n",
    "    help=\"The output directory where the model checkpoints will be written.\",\n",
    ")\n",
    "parser.add_argument(\n",
    "    \"--config_file\",\n",
    "    default=\"config/bert_config.json\",\n",
    "    type=str,\n",
    "    help=\"The config file which specified the model details.\",\n",
    ")\n",
    "parser.add_argument(\n",
    "    \"--no_cuda\", action=\"store_true\", help=\"Whether not to use CUDA when available\"\n",
    ")\n",
    "parser.add_argument(\n",
    "    \"--do_lower_case\",\n",
    "    default=True,\n",
    "    type=bool,\n",
    "    help=\"Whether to lower case the input text. True for uncased models, False for cased models.\",\n",
    ")\n",
    "parser.add_argument(\n",
    "    \"--local_rank\",\n",
    "    type=int,\n",
    "    default=-1,\n",
    "    help=\"local_rank for distributed training on gpus\",\n",
    ")\n",
    "parser.add_argument(\n",
    "    \"--seed\", type=int, default=42, help=\"random seed for initialization\"\n",
    ")\n",
    "parser.add_argument(\n",
    "    \"--fp16\",\n",
    "    action=\"store_true\",\n",
    "    help=\"Whether to use 16-bit float precision instead of 32-bit\",\n",
    ")\n",
    "parser.add_argument(\n",
    "    \"--loss_scale\",\n",
    "    type=float,\n",
    "    default=0,\n",
    "    help=\"Loss scaling to improve fp16 numeric stability. Only used when fp16 set to True.\\n\"\n",
    "    \"0 (default value): dynamic loss scaling.\\n\"\n",
    "    \"Positive power of 2: static loss scaling value.\\n\",\n",
    ")\n",
    "parser.add_argument(\n",
    "    \"--num_workers\",\n",
    "    type=int,\n",
    "    default=16,\n",
    "    help=\"Number of workers in the dataloader.\",\n",
    ")\n",
    "parser.add_argument(\n",
    "    \"--save_name\", default=\"\", type=str, help=\"save name for training.\"\n",
    ")\n",
    "parser.add_argument(\n",
    "    \"--use_chunk\",\n",
    "    default=0,\n",
    "    type=float,\n",
    "    help=\"whether use chunck for parallel training.\",\n",
    ")\n",
    "parser.add_argument(\n",
    "    \"--batch_size\", default=30, type=int, help=\"what is the batch size?\"\n",
    ")\n",
    "parser.add_argument(\n",
    "    \"--tasks\", default=\"\", type=str, help=\"1-2-3... training task separate by -\"\n",
    ")\n",
    "parser.add_argument(\n",
    "    \"--in_memory\",\n",
    "    default=False,\n",
    "    type=bool,\n",
    "    help=\"whether use chunck for parallel training.\",\n",
    ")\n",
    "parser.add_argument(\n",
    "    \"--baseline\", action=\"store_true\", help=\"whether use single stream baseline.\"\n",
    ")\n",
    "parser.add_argument(\"--split\", default=\"\", type=str, help=\"which split to use.\")\n",
    "parser.add_argument(\n",
    "    \"--dynamic_attention\",\n",
    "    action=\"store_true\",\n",
    "    help=\"whether use dynamic attention.\",\n",
    ")\n",
    "parser.add_argument(\n",
    "    \"--clean_train_sets\",\n",
    "    default=True,\n",
    "    type=bool,\n",
    "    help=\"whether clean train sets for multitask data.\",\n",
    ")\n",
    "parser.add_argument(\n",
    "    \"--visual_target\",\n",
    "    default=0,\n",
    "    type=int,\n",
    "    help=\"which target to use for visual branch. \\\n",
    "    0: soft label, \\\n",
    "    1: regress the feature, \\\n",
    "    2: NCE loss.\",\n",
    ")\n",
    "parser.add_argument(\n",
    "    \"--task_specific_tokens\",\n",
    "    action=\"store_true\",\n",
    "    help=\"whether to use task specific tokens for the multi-task learning.\",\n",
    ")"
   ]
  },
  {
   "cell_type": "markdown",
   "metadata": {},
   "source": [
    "## load the textual input"
   ]
  },
  {
   "cell_type": "code",
   "execution_count": 5,
   "metadata": {},
   "outputs": [],
   "source": [
    "args = parser.parse_args(['--bert_model', 'bert-base-uncased',\n",
    "                          '--from_pretrained', 'save/NLVR2_bert_base_6layer_6conect-finetune_from_multi_task_model-task_12/pytorch_model_19.bin',\n",
    "                          '--config_file', 'config/bert_base_6layer_6conect.json',\n",
    "                          '--tasks', '19',\n",
    "                          '--split', 'trainval_dc', # this is the deep captions training split\n",
    "                          '--save_name', 'task-19',\n",
    "                          '--task_specific_tokens',\n",
    "                          '--batch_size', '128'])"
   ]
  },
  {
   "cell_type": "code",
   "execution_count": 6,
   "metadata": {},
   "outputs": [
    {
     "name": "stderr",
     "output_type": "stream",
     "text": [
      "08/24/2020 08:48:16 - INFO - __main__ -   device: cuda n_gpu: 1, distributed training: False, 16-bits training: False\n",
      "08/24/2020 08:48:17 - INFO - pytorch_transformers.tokenization_utils -   loading file https://s3.amazonaws.com/models.huggingface.co/bert/bert-base-uncased-vocab.txt from cache at /home/aloui/.cache/torch/pytorch_transformers/26bc1ad6c0ac742e9b52263248f6d0f00068293b33709fae12320c0e35ccfbbb.542ce4285a40d23a559526243235df47c5f75c197f04f37d1a0c124c32c9a084\n",
      "08/24/2020 08:48:17 - INFO - vilbert.task_utils -   Loading ME Dataset with batch size 128\n",
      "08/24/2020 08:48:17 - INFO - vilbert.datasets.me_dataset -   Loading from datasets/ME/cache/ME_trainval_dc_23_cleaned.pkl\n",
      "08/24/2020 08:48:19 - INFO - vilbert.utils -   logging file at: pytorch_model_19.bin-task-19\n"
     ]
    }
   ],
   "source": [
    "with open(\"vilbert_tasks.yml\", \"r\") as f:\n",
    "    task_cfg = edict(yaml.safe_load(f))\n",
    "\n",
    "random.seed(args.seed)\n",
    "np.random.seed(args.seed)\n",
    "torch.manual_seed(args.seed)\n",
    "\n",
    "if args.baseline:\n",
    "    from pytorch_transformers.modeling_bert import BertConfig\n",
    "    from vilbert.basebert import BaseBertForVLTasks\n",
    "else:\n",
    "    from vilbert.vilbert import BertConfig\n",
    "    from vilbert.vilbert import VILBertForVLTasks\n",
    "\n",
    "task_names = []\n",
    "for i, task_id in enumerate(args.tasks.split(\"-\")):\n",
    "    task = \"TASK\" + task_id\n",
    "    name = task_cfg[task][\"name\"]\n",
    "    task_names.append(name)\n",
    "\n",
    "# timeStamp = '-'.join(task_names) + '_' + args.config_file.split('/')[1].split('.')[0]\n",
    "timeStamp = args.from_pretrained.split(\"/\")[-1] + \"-\" + args.save_name\n",
    "savePath = os.path.join(args.output_dir, timeStamp)\n",
    "config = BertConfig.from_json_file(args.config_file)\n",
    "\n",
    "if args.task_specific_tokens:\n",
    "    config.task_specific_tokens = True\n",
    "\n",
    "if args.local_rank == -1 or args.no_cuda:\n",
    "    device = torch.device(\n",
    "        \"cuda\" if torch.cuda.is_available() and not args.no_cuda else \"cpu\"\n",
    "    )\n",
    "    n_gpu = torch.cuda.device_count()\n",
    "else:\n",
    "    torch.cuda.set_device(args.local_rank)\n",
    "    device = torch.device(\"cuda\", args.local_rank)\n",
    "    n_gpu = 1\n",
    "    # Initializes the distributed backend which will take care of sychronizing nodes/GPUs\n",
    "    torch.distributed.init_process_group(backend=\"nccl\")\n",
    "\n",
    "logger.info(\n",
    "    \"device: {} n_gpu: {}, distributed training: {}, 16-bits training: {}\".format(\n",
    "        device, n_gpu, bool(args.local_rank != -1), args.fp16\n",
    "    )\n",
    ")\n",
    "\n",
    "default_gpu = False\n",
    "if dist.is_available() and args.local_rank != -1:\n",
    "    rank = dist.get_rank()\n",
    "    if rank == 0:\n",
    "        default_gpu = True\n",
    "else:\n",
    "    default_gpu = True\n",
    "\n",
    "if default_gpu and not os.path.exists(savePath):\n",
    "    os.makedirs(savePath)\n",
    "\n",
    "task_batch_size, task_num_iters, task_ids, task_datasets_val, task_dataloader_val = LoadDatasetEval(\n",
    "    args, task_cfg, args.tasks.split(\"-\")\n",
    ")\n",
    "\n",
    "tbLogger = utils.tbLogger(\n",
    "    timeStamp,\n",
    "    savePath,\n",
    "    task_names,\n",
    "    task_ids,\n",
    "    task_num_iters,\n",
    "    1,\n",
    "    save_logger=False,\n",
    "    txt_name=\"eval.txt\",\n",
    ")\n",
    "# num_labels = max([dataset.num_labels for dataset in task_datasets_val.values()])\n",
    "\n",
    "if args.dynamic_attention:\n",
    "    config.dynamic_attention = True\n",
    "if \"roberta\" in args.bert_model:\n",
    "    config.model = \"roberta\"\n",
    "\n",
    "if args.visual_target == 0:\n",
    "    config.v_target_size = 1601\n",
    "    config.visual_target = args.visual_target\n",
    "else:\n",
    "    config.v_target_size = 2048\n",
    "    config.visual_target = args.visual_target\n",
    "\n",
    "if args.task_specific_tokens:\n",
    "    config.task_specific_tokens = True"
   ]
  },
  {
   "cell_type": "code",
   "execution_count": 7,
   "metadata": {},
   "outputs": [
    {
     "data": {
      "text/plain": [
       "({'TASK19': 128},\n",
       " {'TASK19': 63},\n",
       " ['TASK19'],\n",
       " {'TASK19': <vilbert.datasets.me_dataset.MERegressionDataset at 0x7f64ece44128>},\n",
       " {'TASK19': <torch.utils.data.dataloader.DataLoader at 0x7f6513f59d68>})"
      ]
     },
     "execution_count": 7,
     "metadata": {},
     "output_type": "execute_result"
    }
   ],
   "source": [
    "task_batch_size, task_num_iters, task_ids, task_datasets_val, task_dataloader_val"
   ]
  },
  {
   "cell_type": "code",
   "execution_count": 8,
   "metadata": {},
   "outputs": [
    {
     "data": {
      "text/plain": [
       "(8000, 63)"
      ]
     },
     "execution_count": 8,
     "metadata": {},
     "output_type": "execute_result"
    }
   ],
   "source": [
    "len(task_datasets_val['TASK19']), len(task_dataloader_val['TASK19'])"
   ]
  },
  {
   "cell_type": "markdown",
   "metadata": {},
   "source": [
    "## load the pretrained model"
   ]
  },
  {
   "cell_type": "code",
   "execution_count": 9,
   "metadata": {},
   "outputs": [
    {
     "name": "stderr",
     "output_type": "stream",
     "text": [
      "08/24/2020 08:48:19 - INFO - vilbert.utils -   loading weights file save/NLVR2_bert_base_6layer_6conect-finetune_from_multi_task_model-task_12/pytorch_model_19.bin\n"
     ]
    }
   ],
   "source": [
    "num_labels = 0\n",
    "\n",
    "if args.baseline:\n",
    "    model = BaseBertForVLTasks.from_pretrained(\n",
    "        args.from_pretrained,\n",
    "        config=config,\n",
    "        num_labels=num_labels,\n",
    "        default_gpu=default_gpu,\n",
    "    )\n",
    "else:\n",
    "    model = VILBertForVLTasks.from_pretrained(\n",
    "        args.from_pretrained,\n",
    "        config=config,\n",
    "        num_labels=num_labels,\n",
    "        default_gpu=default_gpu,\n",
    "    )\n",
    "\n",
    "task_losses = LoadLosses(args, task_cfg, args.tasks.split(\"-\"))\n",
    "model.to(device)\n",
    "if args.local_rank != -1:\n",
    "    try:\n",
    "        from apex.parallel import DistributedDataParallel as DDP\n",
    "    except ImportError:\n",
    "        raise ImportError(\n",
    "            \"Please install apex from https://www.github.com/nvidia/apex to use distributed and fp16 training.\"\n",
    "        )\n",
    "    model = DDP(model, delay_allreduce=True)\n",
    "\n",
    "elif n_gpu > 1:\n",
    "    model = nn.DataParallel(model)"
   ]
  },
  {
   "cell_type": "markdown",
   "metadata": {},
   "source": [
    "## Propagate Training Split"
   ]
  },
  {
   "cell_type": "code",
   "execution_count": 10,
   "metadata": {},
   "outputs": [
    {
     "name": "stdout",
     "output_type": "stream",
     "text": [
      "***** Running evaluation *****\n",
      "  Num Iters:  {'TASK19': 63}\n",
      "  Batch size:  {'TASK19': 128}\n",
      "62/63\r"
     ]
    },
    {
     "name": "stderr",
     "output_type": "stream",
     "text": [
      "08/24/2020 08:48:56 - INFO - vilbert.utils -   Eval task TASK19 on iteration 0 \n",
      "08/24/2020 08:48:56 - INFO - vilbert.utils -   Validation [ME]: loss 1.188 score -0.101 \n"
     ]
    }
   ],
   "source": [
    "print(\"***** Running evaluation *****\")\n",
    "print(\"  Num Iters: \", task_num_iters)\n",
    "print(\"  Batch size: \", task_batch_size)\n",
    "\n",
    "pooled_output_mul_list, pooled_output_sum_list, pooled_output_t_list, pooled_output_v_list = list(), list(), list(), list()\n",
    "targets_list = list()\n",
    "\n",
    "model.eval()\n",
    "# when run evaluate, we run each task sequentially.\n",
    "for task_id in task_ids:\n",
    "    results = []\n",
    "    others = []\n",
    "    for i, batch in enumerate(task_dataloader_val[task_id]):\n",
    "        loss, score, batch_size, results, others, target = EvaluatingModel(\n",
    "            args,\n",
    "            task_cfg,\n",
    "            device,\n",
    "            task_id,\n",
    "            batch,\n",
    "            model,\n",
    "            task_dataloader_val,\n",
    "            task_losses,\n",
    "            results,\n",
    "            others,\n",
    "        )\n",
    "        \n",
    "        pooled_output_mul_list.append(model.pooled_output_mul)\n",
    "        pooled_output_sum_list.append(model.pooled_output_sum)\n",
    "        pooled_output_t_list.append(model.pooled_output_t)\n",
    "        pooled_output_v_list.append(model.pooled_output_v)\n",
    "        targets_list.append(target)\n",
    "\n",
    "        tbLogger.step_val(0, float(loss), float(score), task_id, batch_size, \"val\")\n",
    "        sys.stdout.write(\"%d/%d\\r\" % (i, len(task_dataloader_val[task_id])))\n",
    "        sys.stdout.flush()\n",
    "    # save the result or evaluate the result.\n",
    "    ave_score = tbLogger.showLossVal(task_id)\n",
    "\n",
    "    if args.split:\n",
    "        json_path = os.path.join(savePath, args.split)\n",
    "    else:\n",
    "        json_path = os.path.join(savePath, task_cfg[task_id][\"val_split\"])\n",
    "\n",
    "    json.dump(results, open(json_path + \"_result.json\", \"w\"))\n",
    "    json.dump(others, open(json_path + \"_others.json\", \"w\"))"
   ]
  },
  {
   "cell_type": "markdown",
   "metadata": {},
   "source": [
    "## save ViLBERT output"
   ]
  },
  {
   "cell_type": "code",
   "execution_count": 11,
   "metadata": {},
   "outputs": [],
   "source": [
    "pooled_output_mul = torch.cat(pooled_output_mul_list, 0)\n",
    "pooled_output_sum = torch.cat(pooled_output_sum_list, 0)\n",
    "pooled_output_t = torch.cat(pooled_output_t_list, 0)\n",
    "pooled_output_v = torch.cat(pooled_output_v_list, 0)\n",
    "concat_pooled_output = torch.cat([pooled_output_t, pooled_output_v], 1)\n",
    "targets = torch.cat(targets_list, 0)"
   ]
  },
  {
   "cell_type": "code",
   "execution_count": 12,
   "metadata": {},
   "outputs": [
    {
     "data": {
      "text/plain": [
       "tensor([[0.9240, 0.8460],\n",
       "        [0.9230, 0.6670],\n",
       "        [0.8630, 0.7000],\n",
       "        ...,\n",
       "        [0.9260, 0.7500],\n",
       "        [0.9250, 0.9170],\n",
       "        [0.8640, 0.8000]], device='cuda:0')"
      ]
     },
     "execution_count": 12,
     "metadata": {},
     "output_type": "execute_result"
    }
   ],
   "source": [
    "targets"
   ]
  },
  {
   "cell_type": "code",
   "execution_count": 13,
   "metadata": {},
   "outputs": [],
   "source": [
    "train_save_path = \"datasets/ME/out_features/train_dc_features_nlvr2.pkl\""
   ]
  },
  {
   "cell_type": "code",
   "execution_count": 14,
   "metadata": {},
   "outputs": [],
   "source": [
    "pooled_dict = {\n",
    "    \"pooled_output_mul\": pooled_output_mul,\n",
    "    \"pooled_output_sum\": pooled_output_sum,\n",
    "    \"pooled_output_t\": pooled_output_t,\n",
    "    \"pooled_output_v\": pooled_output_v,\n",
    "    \"concat_pooled_output\": concat_pooled_output,\n",
    "    \"targets\": targets,\n",
    "}"
   ]
  },
  {
   "cell_type": "code",
   "execution_count": 15,
   "metadata": {},
   "outputs": [
    {
     "data": {
      "text/plain": [
       "dict_keys(['pooled_output_mul', 'pooled_output_sum', 'pooled_output_t', 'pooled_output_v', 'concat_pooled_output', 'targets'])"
      ]
     },
     "execution_count": 15,
     "metadata": {},
     "output_type": "execute_result"
    }
   ],
   "source": [
    "pooled_dict.keys()"
   ]
  },
  {
   "cell_type": "code",
   "execution_count": 16,
   "metadata": {},
   "outputs": [],
   "source": [
    "cPickle.dump(pooled_dict, open(train_save_path, 'wb'))\n",
    "#cPickle.dump(val_pooled_dict, open(val_save_path, 'wb'))"
   ]
  },
  {
   "cell_type": "markdown",
   "metadata": {},
   "source": [
    "# Training a Regressor"
   ]
  },
  {
   "cell_type": "code",
   "execution_count": 17,
   "metadata": {},
   "outputs": [],
   "source": [
    "import torch\n",
    "import torch.nn as nn\n",
    "import torch.utils.data as Data\n",
    "from torch.autograd import Variable\n",
    "from statistics import mean\n",
    "import matplotlib.pyplot as plt\n",
    "import _pickle as cPickle\n",
    "from tqdm import tqdm\n",
    "from scipy.stats import spearmanr"
   ]
  },
  {
   "cell_type": "code",
   "execution_count": 18,
   "metadata": {},
   "outputs": [],
   "source": [
    "train_save_path = \"datasets/ME/out_features/train_dc_features_nlvr2.pkl\"\n",
    "# val_save_path = \"datasets/ME/out_features/val_features.pkl\""
   ]
  },
  {
   "cell_type": "code",
   "execution_count": 22,
   "metadata": {},
   "outputs": [],
   "source": [
    "pooled_dict = cPickle.load(open(train_save_path, 'rb'))\n",
    "#val_pooled_dict = cPickle.load(open(val_save_path, 'rb'))"
   ]
  },
  {
   "cell_type": "code",
   "execution_count": 19,
   "metadata": {},
   "outputs": [],
   "source": [
    "pooled_output_mul = pooled_dict[\"pooled_output_mul\"]\n",
    "pooled_output_sum = pooled_dict[\"pooled_output_sum\"]\n",
    "pooled_output_t = pooled_dict[\"pooled_output_t\"]\n",
    "pooled_output_v = pooled_dict[\"pooled_output_v\"]\n",
    "concat_pooled_output = pooled_dict[\"concat_pooled_output\"]\n",
    "targets = pooled_dict[\"targets\"]"
   ]
  },
  {
   "cell_type": "code",
   "execution_count": 20,
   "metadata": {},
   "outputs": [],
   "source": [
    "indices = {\n",
    "    \"0\": {},\n",
    "    \"1\": {},\n",
    "    \"2\": {},\n",
    "    \"3\": {},\n",
    "}"
   ]
  },
  {
   "cell_type": "code",
   "execution_count": 21,
   "metadata": {},
   "outputs": [],
   "source": [
    "import numpy as np\n",
    "from sklearn.model_selection import KFold\n",
    "\n",
    "kf = KFold(n_splits=4)\n",
    "\n",
    "for i, (train_index, test_index) in enumerate(kf.split(pooled_output_mul)):\n",
    "    indices[str(i)][\"train\"] = train_index\n",
    "    indices[str(i)][\"test\"] = test_index"
   ]
  },
  {
   "cell_type": "code",
   "execution_count": 22,
   "metadata": {},
   "outputs": [],
   "source": [
    "class Net(nn.Module):\n",
    "    def __init__(self, input_size, hidden_size_1, hidden_size_2, num_scores):\n",
    "        super(Net, self).__init__()\n",
    "        self.out = nn.Sequential(\n",
    "            nn.Linear(input_size, hidden_size_1), \n",
    "            GeLU(), \n",
    "            nn.Linear(hidden_size_1, hidden_size_2), \n",
    "            GeLU(), \n",
    "            nn.Linear(hidden_size_2, num_scores)\n",
    "        )\n",
    "\n",
    "    def forward(self, x):\n",
    "        return self.out(x)"
   ]
  },
  {
   "cell_type": "code",
   "execution_count": 23,
   "metadata": {},
   "outputs": [],
   "source": [
    "class LinNet(nn.Module):\n",
    "    def __init__(self, input_size, hidden_size_1, num_scores):\n",
    "        super(LinNet, self).__init__()\n",
    "        self.out = nn.Sequential(\n",
    "            nn.Linear(input_size, hidden_size_1),\n",
    "            nn.Linear(hidden_size_1, num_scores),\n",
    "        )\n",
    "\n",
    "    def forward(self, x):\n",
    "        return self.out(x)"
   ]
  },
  {
   "cell_type": "code",
   "execution_count": 24,
   "metadata": {},
   "outputs": [],
   "source": [
    "class SimpleLinNet(nn.Module):\n",
    "    def __init__(self, input_size, num_scores):\n",
    "        super(SimpleLinNet, self).__init__()\n",
    "        self.out = nn.Sequential(\n",
    "            nn.Linear(input_size, num_scores),\n",
    "        )\n",
    "\n",
    "    def forward(self, x):\n",
    "        return self.out(x)"
   ]
  },
  {
   "cell_type": "code",
   "execution_count": 25,
   "metadata": {},
   "outputs": [],
   "source": [
    "class SigLinNet(nn.Module):\n",
    "    def __init__(self, input_size, \n",
    "                 hidden_size_1,\n",
    "                 hidden_size_2, \n",
    "                 hidden_size_3, \n",
    "                 num_scores):\n",
    "        super(SigLinNet, self).__init__()\n",
    "        self.out = nn.Sequential(\n",
    "            nn.Linear(input_size, hidden_size_1),\n",
    "            nn.Sigmoid(),\n",
    "            nn.Linear(hidden_size_1, hidden_size_2),\n",
    "            nn.Sigmoid(),\n",
    "            nn.Linear(hidden_size_2, hidden_size_3),\n",
    "            nn.Sigmoid(),\n",
    "            nn.Linear(hidden_size_3, num_scores),\n",
    "        )\n",
    "\n",
    "    def forward(self, x):\n",
    "        return self.out(x)"
   ]
  },
  {
   "cell_type": "code",
   "execution_count": 26,
   "metadata": {},
   "outputs": [],
   "source": [
    "class ReLuLinNet(nn.Module):\n",
    "    def __init__(self, input_size, hidden_size_1, hidden_size_2, num_scores):\n",
    "        super(ReLuLinNet, self).__init__()\n",
    "        self.out = nn.Sequential(\n",
    "            nn.Linear(input_size, hidden_size_1),\n",
    "            nn.ReLU(),\n",
    "            nn.Dropout(0.1),\n",
    "            nn.Linear(hidden_size_1, hidden_size_2),\n",
    "            nn.ReLU(),\n",
    "            nn.Dropout(0.1),\n",
    "            nn.Linear(hidden_size_2, num_scores),\n",
    "        )\n",
    "\n",
    "    def forward(self, x):\n",
    "        return self.out(x)"
   ]
  },
  {
   "cell_type": "code",
   "execution_count": 27,
   "metadata": {},
   "outputs": [],
   "source": [
    "def train_reg(inputs, targets, input_size, output_size, split, model, batch_size, epoch, lr, score, *argv):\n",
    "    torch.manual_seed(42)\n",
    "    nets = []\n",
    "    los = []\n",
    "\n",
    "    for i in range(len(split)):\n",
    "        ind = list(split[str(i)][\"train\"])\n",
    "        if score == \"both\":\n",
    "            torch_dataset = Data.TensorDataset(inputs[ind], targets[ind])\n",
    "        elif score == \"stm\":\n",
    "            torch_dataset = Data.TensorDataset(inputs[ind], targets[ind,0].reshape(-1,1))\n",
    "        elif score == \"ltm\":\n",
    "            torch_dataset = Data.TensorDataset(inputs[ind], targets[ind,1].reshape(-1,1))\n",
    "\n",
    "        loader = Data.DataLoader(\n",
    "            dataset=torch_dataset, \n",
    "            batch_size=batch_size, \n",
    "            shuffle=True\n",
    "        )\n",
    "\n",
    "        net = model(input_size, *argv, output_size)\n",
    "        net.cuda()\n",
    "\n",
    "        optimizer = torch.optim.Adam(net.parameters(), lr=lr, weight_decay=1e-4)\n",
    "        loss_func = torch.nn.MSELoss()\n",
    "\n",
    "        losses = []\n",
    "        net.train()\n",
    "        for _ in tqdm(range(epoch), desc=\"Split %d\" % i):\n",
    "            errors = []\n",
    "            for step, (batch_in, batch_out) in enumerate(loader):\n",
    "                optimizer.zero_grad()\n",
    "\n",
    "                b_in = Variable(batch_in)\n",
    "                b_out = Variable(batch_out)\n",
    "\n",
    "                prediction = net(b_in)\n",
    "\n",
    "                loss = loss_func(prediction, b_out)\n",
    "                errors.append(loss.item())\n",
    "\n",
    "                loss.backward()\n",
    "                optimizer.step()\n",
    "            losses.append(mean(errors))\n",
    "            #if not (epoch+1) % 10:\n",
    "            #    print('Epoch {}: train loss: {}'.format(epoch+1, mean(errors))\n",
    "        nets.append(net)\n",
    "        los.append(losses)\n",
    "    return nets, los"
   ]
  },
  {
   "cell_type": "code",
   "execution_count": 28,
   "metadata": {},
   "outputs": [],
   "source": [
    "def test_reg(nets, inputs, targets, split, score):\n",
    "    losses = list()\n",
    "    rhos = {\"stm\": [], \"ltm\": []}\n",
    "    \n",
    "    loss_func = torch.nn.MSELoss()\n",
    "\n",
    "    for i, net in enumerate(nets):\n",
    "        ind = list(split[str(i)][\"test\"])\n",
    "        if score == \"both\":\n",
    "            torch_dataset_val = Data.TensorDataset(inputs[ind], targets[ind])\n",
    "        elif score == \"stm\":\n",
    "            torch_dataset_val = Data.TensorDataset(inputs[ind], targets[ind,0].reshape(-1,1))\n",
    "        elif score == \"ltm\":\n",
    "            torch_dataset_val = Data.TensorDataset(inputs[ind], targets[ind,1].reshape(-1,1))\n",
    "\n",
    "        loader_val = Data.DataLoader(\n",
    "            dataset=torch_dataset_val, \n",
    "            batch_size=VAL_BATCH_SIZE, \n",
    "            shuffle=False\n",
    "        )\n",
    "\n",
    "        dataiter_val = iter(loader_val)\n",
    "        in_, out_ = dataiter_val.next()\n",
    "\n",
    "        curr_net = net\n",
    "\n",
    "        curr_net.eval()\n",
    "        pred_scores = curr_net(in_)\n",
    "\n",
    "        loss = loss_func(pred_scores, out_)\n",
    "        losses.append(loss.item())\n",
    "\n",
    "        r, _ = spearmanr(\n",
    "            pred_scores.cpu().detach().numpy()[:,0], \n",
    "            out_.cpu().detach().numpy()[:,0], \n",
    "            axis=0\n",
    "        )\n",
    "        rhos[\"stm\"].append(r)\n",
    "\n",
    "        r, _ = spearmanr(\n",
    "            pred_scores.cpu().detach().numpy()[:,1], \n",
    "            out_.cpu().detach().numpy()[:,1], \n",
    "            axis=0\n",
    "        )\n",
    "        rhos[\"ltm\"].append(r)\n",
    "    \n",
    "    return rhos, losses"
   ]
  },
  {
   "cell_type": "code",
   "execution_count": 29,
   "metadata": {},
   "outputs": [],
   "source": [
    "BATCH_SIZE = 128\n",
    "VAL_BATCH_SIZE = 2000\n",
    "EPOCH = 200\n",
    "lr = 4e-4"
   ]
  },
  {
   "cell_type": "markdown",
   "metadata": {},
   "source": [
    "## 1024-input train"
   ]
  },
  {
   "cell_type": "code",
   "execution_count": 44,
   "metadata": {},
   "outputs": [
    {
     "name": "stderr",
     "output_type": "stream",
     "text": [
      "Split 0: 100%|██████████| 200/200 [00:23<00:00,  8.60it/s]\n",
      "Split 1: 100%|██████████| 200/200 [00:22<00:00,  8.83it/s]\n",
      "Split 2: 100%|██████████| 200/200 [00:23<00:00,  8.71it/s]\n",
      "Split 3: 100%|██████████| 200/200 [00:22<00:00,  8.73it/s]\n"
     ]
    }
   ],
   "source": [
    "nets, los = train_reg(\n",
    "    pooled_output_v, \n",
    "    targets, \n",
    "    1024, # input size\n",
    "    2, # output size\n",
    "    indices, # train and validation indices for each split\n",
    "    SigLinNet, # model class to be used\n",
    "    BATCH_SIZE, \n",
    "    EPOCH, \n",
    "    lr,\n",
    "    \"both\", # predict both scores\n",
    "    512, 64, 32 # sizes of hidden network layers\n",
    ")"
   ]
  },
  {
   "cell_type": "code",
   "execution_count": 45,
   "metadata": {},
   "outputs": [
    {
     "data": {
      "image/png": "[encoded data removed]",
      "text/plain": [
       "<Figure size 432x288 with 1 Axes>"
      ]
     },
     "metadata": {
      "needs_background": "light"
     },
     "output_type": "display_data"
    }
   ],
   "source": [
    "for l in los:\n",
    "    plt.plot(l[3:])\n",
    "plt.yscale('log')"
   ]
  },
  {
   "cell_type": "markdown",
   "metadata": {},
   "source": [
    "## 1024-input test"
   ]
  },
  {
   "cell_type": "code",
   "execution_count": 46,
   "metadata": {},
   "outputs": [],
   "source": [
    "rhos, losses = test_reg(nets, pooled_output_v, targets, indices, \"both\")"
   ]
  },
  {
   "cell_type": "code",
   "execution_count": 47,
   "metadata": {},
   "outputs": [
    {
     "data": {
      "text/plain": [
       "{'stm': [0.41199607586431936,\n",
       "  0.4485882697244938,\n",
       "  0.44194323496353627,\n",
       "  0.46172835733264755],\n",
       " 'ltm': [0.20863058804092663,\n",
       "  0.2185983801357858,\n",
       "  0.2374156803924235,\n",
       "  0.24222088060043592]}"
      ]
     },
     "execution_count": 47,
     "metadata": {},
     "output_type": "execute_result"
    }
   ],
   "source": [
    "rhos"
   ]
  },
  {
   "cell_type": "code",
   "execution_count": 48,
   "metadata": {},
   "outputs": [
    {
     "data": {
      "text/plain": [
       "(0.4410639844712492, 0.22671638229239297)"
      ]
     },
     "execution_count": 48,
     "metadata": {},
     "output_type": "execute_result"
    }
   ],
   "source": [
    "mean(rhos[\"stm\"]), mean(rhos[\"ltm\"])"
   ]
  },
  {
   "cell_type": "markdown",
   "metadata": {},
   "source": [
    "## 2048-input train"
   ]
  },
  {
   "cell_type": "code",
   "execution_count": 49,
   "metadata": {},
   "outputs": [
    {
     "name": "stderr",
     "output_type": "stream",
     "text": [
      "Split 0: 100%|██████████| 200/200 [00:22<00:00,  8.84it/s]\n",
      "Split 1: 100%|██████████| 200/200 [00:22<00:00,  8.90it/s]\n",
      "Split 2: 100%|██████████| 200/200 [00:22<00:00,  8.63it/s]\n",
      "Split 3: 100%|██████████| 200/200 [00:22<00:00,  8.79it/s]\n"
     ]
    }
   ],
   "source": [
    "nets_2, los_2 = train_reg(\n",
    "    concat_pooled_output, \n",
    "    targets, \n",
    "    2048, \n",
    "    2, \n",
    "    indices, \n",
    "    SigLinNet, \n",
    "    BATCH_SIZE, \n",
    "    EPOCH, \n",
    "    lr,\n",
    "    \"both\",\n",
    "    512, 64, 32\n",
    ")"
   ]
  },
  {
   "cell_type": "code",
   "execution_count": 50,
   "metadata": {},
   "outputs": [
    {
     "data": {
      "image/png": "[encoded data removed]",
      "text/plain": [
       "<Figure size 432x288 with 1 Axes>"
      ]
     },
     "metadata": {
      "needs_background": "light"
     },
     "output_type": "display_data"
    }
   ],
   "source": [
    "for l in los_2:\n",
    "    plt.plot(l[3:])\n",
    "plt.yscale('log')"
   ]
  },
  {
   "cell_type": "markdown",
   "metadata": {},
   "source": [
    "## 2048-input test"
   ]
  },
  {
   "cell_type": "code",
   "execution_count": 51,
   "metadata": {},
   "outputs": [],
   "source": [
    "rhos_2, losses_2 = test_reg(nets_2, concat_pooled_output, targets, indices, \"both\")"
   ]
  },
  {
   "cell_type": "code",
   "execution_count": 52,
   "metadata": {},
   "outputs": [
    {
     "data": {
      "text/plain": [
       "{'stm': [0.4221196000546424,\n",
       "  0.4625778602312049,\n",
       "  0.4425826663269759,\n",
       "  0.48432232738473496],\n",
       " 'ltm': [0.2189439680799125,\n",
       "  0.22628902309095722,\n",
       "  0.23877325263009153,\n",
       "  0.2533736773224479]}"
      ]
     },
     "execution_count": 52,
     "metadata": {},
     "output_type": "execute_result"
    }
   ],
   "source": [
    "rhos_2"
   ]
  },
  {
   "cell_type": "code",
   "execution_count": 53,
   "metadata": {},
   "outputs": [
    {
     "data": {
      "text/plain": [
       "(0.45290061349938954, 0.2343449802808523)"
      ]
     },
     "execution_count": 53,
     "metadata": {},
     "output_type": "execute_result"
    }
   ],
   "source": [
    "mean(rhos_2[\"stm\"]), mean(rhos_2[\"ltm\"])"
   ]
  },
  {
   "cell_type": "markdown",
   "metadata": {},
   "source": []
  }
 ],
 "metadata": {
  "kernelspec": {
   "display_name": "Python 3",
   "language": "python",
   "name": "python3"
  },
  "language_info": {
   "codemirror_mode": {
    "name": "ipython",
    "version": 3
   },
   "file_extension": ".py",
   "mimetype": "text/x-python",
   "name": "python",
   "nbconvert_exporter": "python",
   "pygments_lexer": "ipython3",
   "version": "3.6.10"
  }
 },
 "nbformat": 4,
 "nbformat_minor": 4
}
