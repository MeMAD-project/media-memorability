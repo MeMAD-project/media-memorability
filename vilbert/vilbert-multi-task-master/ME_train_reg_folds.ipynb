{
 "cells": [
  {
   "cell_type": "markdown",
   "metadata": {},
   "source": [
    "# Training a Regressor"
   ]
  },
  {
   "cell_type": "code",
   "execution_count": 1,
   "metadata": {},
   "outputs": [],
   "source": [
    "import torch\n",
    "import torch.nn as nn\n",
    "import torch.utils.data as Data\n",
    "from torch.autograd import Variable\n",
    "from statistics import mean\n",
    "import matplotlib.pyplot as plt\n",
    "import _pickle as cPickle\n",
    "from tqdm import tqdm\n",
    "from scipy.stats import spearmanr"
   ]
  },
  {
   "cell_type": "code",
   "execution_count": 2,
   "metadata": {},
   "outputs": [],
   "source": [
    "train_save_path = \"datasets/ME/out_features/train_features_VQA.pkl\""
   ]
  },
  {
   "cell_type": "code",
   "execution_count": 3,
   "metadata": {},
   "outputs": [],
   "source": [
    "pooled_dict = cPickle.load(open(train_save_path, 'rb'))"
   ]
  },
  {
   "cell_type": "code",
   "execution_count": 4,
   "metadata": {},
   "outputs": [],
   "source": [
    "pooled_output_mul = pooled_dict[\"pooled_output_mul\"]\n",
    "pooled_output_sum = pooled_dict[\"pooled_output_sum\"]\n",
    "pooled_output_t = pooled_dict[\"pooled_output_t\"]\n",
    "pooled_output_v = pooled_dict[\"pooled_output_v\"]\n",
    "concat_pooled_output = pooled_dict[\"concat_pooled_output\"]\n",
    "targets = pooled_dict[\"targets\"]"
   ]
  },
  {
   "cell_type": "code",
   "execution_count": 5,
   "metadata": {},
   "outputs": [],
   "source": [
    "indices = {\n",
    "    \"0\": {},\n",
    "    \"1\": {},\n",
    "    \"2\": {},\n",
    "    \"3\": {},\n",
    "}"
   ]
  },
  {
   "cell_type": "code",
   "execution_count": 6,
   "metadata": {},
   "outputs": [],
   "source": [
    "import numpy as np\n",
    "from sklearn.model_selection import KFold\n",
    "\n",
    "kf = KFold(n_splits=4)\n",
    "\n",
    "for i, (train_index, test_index) in enumerate(kf.split(pooled_output_mul)):\n",
    "    indices[str(i)][\"train\"] = train_index\n",
    "    indices[str(i)][\"test\"] = test_index"
   ]
  },
  {
   "cell_type": "code",
   "execution_count": 10,
   "metadata": {},
   "outputs": [],
   "source": [
    "class SigLinNet(nn.Module):\n",
    "    def __init__(self, input_size, \n",
    "                 hidden_size_1,\n",
    "                 hidden_size_2, \n",
    "                 hidden_size_3, \n",
    "                 num_scores):\n",
    "        super(SigLinNet, self).__init__()\n",
    "        self.out = nn.Sequential(\n",
    "            nn.Linear(input_size, hidden_size_1),\n",
    "            nn.Sigmoid(),\n",
    "            nn.Linear(hidden_size_1, hidden_size_2),\n",
    "            nn.Sigmoid(),\n",
    "            nn.Linear(hidden_size_2, hidden_size_3),\n",
    "            nn.Sigmoid(),\n",
    "            nn.Linear(hidden_size_3, num_scores),\n",
    "        )\n",
    "\n",
    "    def forward(self, x):\n",
    "        return self.out(x)"
   ]
  },
  {
   "cell_type": "code",
   "execution_count": 12,
   "metadata": {},
   "outputs": [],
   "source": [
    "def train_reg(inputs, targets, input_size, output_size, split, model, batch_size, epoch, lr, score, *argv):\n",
    "    torch.manual_seed(42)\n",
    "    nets = []\n",
    "    los = []\n",
    "\n",
    "    for i in range(len(split)):\n",
    "        ind = list(split[str(i)][\"train\"])\n",
    "        if score == \"both\":\n",
    "            torch_dataset = Data.TensorDataset(inputs[ind], targets[ind])\n",
    "        elif score == \"stm\":\n",
    "            torch_dataset = Data.TensorDataset(inputs[ind], targets[ind,0].reshape(-1,1))\n",
    "        elif score == \"ltm\":\n",
    "            torch_dataset = Data.TensorDataset(inputs[ind], targets[ind,1].reshape(-1,1))\n",
    "\n",
    "        loader = Data.DataLoader(\n",
    "            dataset=torch_dataset, \n",
    "            batch_size=batch_size, \n",
    "            shuffle=True\n",
    "        )\n",
    "\n",
    "        net = model(input_size, *argv, output_size)\n",
    "        net.cuda()\n",
    "\n",
    "        optimizer = torch.optim.Adam(net.parameters(), lr=lr, weight_decay=1e-4)\n",
    "        loss_func = torch.nn.MSELoss()\n",
    "\n",
    "        losses = []\n",
    "        net.train()\n",
    "        for _ in tqdm(range(epoch), desc=\"Split %d\" % i):\n",
    "            errors = []\n",
    "            for step, (batch_in, batch_out) in enumerate(loader):\n",
    "                optimizer.zero_grad()\n",
    "\n",
    "                b_in = Variable(batch_in)\n",
    "                b_out = Variable(batch_out)\n",
    "\n",
    "                prediction = net(b_in)\n",
    "\n",
    "                loss = loss_func(prediction, b_out)\n",
    "                errors.append(loss.item())\n",
    "\n",
    "                loss.backward()\n",
    "                optimizer.step()\n",
    "            losses.append(mean(errors))\n",
    "            #if not (epoch+1) % 10:\n",
    "            #    print('Epoch {}: train loss: {}'.format(epoch+1, mean(errors))\n",
    "        nets.append(net)\n",
    "        los.append(losses)\n",
    "    return nets, los"
   ]
  },
  {
   "cell_type": "code",
   "execution_count": 13,
   "metadata": {},
   "outputs": [],
   "source": [
    "def test_reg(nets, inputs, targets, split, score):\n",
    "    losses = list()\n",
    "    rhos = {\"stm\": [], \"ltm\": []}\n",
    "    \n",
    "    loss_func = torch.nn.MSELoss()\n",
    "\n",
    "    for i, net in enumerate(nets):\n",
    "        ind = list(split[str(i)][\"test\"])\n",
    "        if score == \"both\":\n",
    "            torch_dataset_val = Data.TensorDataset(inputs[ind], targets[ind])\n",
    "        elif score == \"stm\":\n",
    "            torch_dataset_val = Data.TensorDataset(inputs[ind], targets[ind,0].reshape(-1,1))\n",
    "        elif score == \"ltm\":\n",
    "            torch_dataset_val = Data.TensorDataset(inputs[ind], targets[ind,1].reshape(-1,1))\n",
    "\n",
    "        loader_val = Data.DataLoader(\n",
    "            dataset=torch_dataset_val, \n",
    "            batch_size=VAL_BATCH_SIZE, \n",
    "            shuffle=False\n",
    "        )\n",
    "\n",
    "        dataiter_val = iter(loader_val)\n",
    "        in_, out_ = dataiter_val.next()\n",
    "\n",
    "        curr_net = net\n",
    "\n",
    "        curr_net.eval()\n",
    "        pred_scores = curr_net(in_)\n",
    "\n",
    "        loss = loss_func(pred_scores, out_)\n",
    "        losses.append(loss.item())\n",
    "\n",
    "        r, _ = spearmanr(\n",
    "            pred_scores.cpu().detach().numpy()[:,0], \n",
    "            out_.cpu().detach().numpy()[:,0], \n",
    "            axis=0\n",
    "        )\n",
    "        rhos[\"stm\"].append(r)\n",
    "\n",
    "        r, _ = spearmanr(\n",
    "            pred_scores.cpu().detach().numpy()[:,1], \n",
    "            out_.cpu().detach().numpy()[:,1], \n",
    "            axis=0\n",
    "        )\n",
    "        rhos[\"ltm\"].append(r)\n",
    "    \n",
    "    return rhos, losses"
   ]
  },
  {
   "cell_type": "code",
   "execution_count": 14,
   "metadata": {},
   "outputs": [],
   "source": [
    "BATCH_SIZE = 128\n",
    "VAL_BATCH_SIZE = 2000\n",
    "EPOCH = 200\n",
    "lr = 4e-4"
   ]
  },
  {
   "cell_type": "markdown",
   "metadata": {},
   "source": [
    "## 1024-input train"
   ]
  },
  {
   "cell_type": "code",
   "execution_count": 15,
   "metadata": {},
   "outputs": [
    {
     "name": "stderr",
     "output_type": "stream",
     "text": [
      "Split 0: 100%|██████████| 200/200 [00:23<00:00,  8.55it/s]\n",
      "Split 1: 100%|██████████| 200/200 [00:23<00:00,  8.50it/s]\n",
      "Split 2: 100%|██████████| 200/200 [00:23<00:00,  8.45it/s]\n",
      "Split 3: 100%|██████████| 200/200 [00:23<00:00,  8.48it/s]\n"
     ]
    }
   ],
   "source": [
    "nets, los = train_reg(\n",
    "    pooled_output_sum, \n",
    "    targets, \n",
    "    1024, # input size\n",
    "    2, # output size\n",
    "    indices, # train and validation indices for each split\n",
    "    SigLinNet, # model class to be used\n",
    "    BATCH_SIZE, \n",
    "    EPOCH, \n",
    "    lr,\n",
    "    \"both\", # predict both scores\n",
    "    512, 64, 32 # sizes of hidden network layers\n",
    ")"
   ]
  },
  {
   "cell_type": "code",
   "execution_count": 16,
   "metadata": {},
   "outputs": [
    {
     "data": {
      "image/png": "[encoded data removed]",
      "text/plain": [
       "<Figure size 432x288 with 1 Axes>"
      ]
     },
     "metadata": {
      "needs_background": "light"
     },
     "output_type": "display_data"
    }
   ],
   "source": [
    "for l in los:\n",
    "    plt.plot(l[3:])\n",
    "plt.yscale('log')"
   ]
  },
  {
   "cell_type": "markdown",
   "metadata": {},
   "source": [
    "## 1024-input test"
   ]
  },
  {
   "cell_type": "code",
   "execution_count": 17,
   "metadata": {},
   "outputs": [],
   "source": [
    "rhos, losses = test_reg(nets, pooled_output_sum, targets, indices, \"both\")"
   ]
  },
  {
   "cell_type": "code",
   "execution_count": 18,
   "metadata": {},
   "outputs": [
    {
     "data": {
      "text/plain": [
       "{'stm': [0.4479491832417632,\n",
       "  0.46421804783154824,\n",
       "  0.4708940712987392,\n",
       "  0.4659157970920723],\n",
       " 'ltm': [0.2292920750051904,\n",
       "  0.2452806470939227,\n",
       "  0.22359975943219537,\n",
       "  0.23097835805305242]}"
      ]
     },
     "execution_count": 18,
     "metadata": {},
     "output_type": "execute_result"
    }
   ],
   "source": [
    "rhos"
   ]
  },
  {
   "cell_type": "code",
   "execution_count": 19,
   "metadata": {},
   "outputs": [
    {
     "data": {
      "text/plain": [
       "(0.46224427486603076, 0.2322877098960902)"
      ]
     },
     "execution_count": 19,
     "metadata": {},
     "output_type": "execute_result"
    }
   ],
   "source": [
    "mean(rhos[\"stm\"]), mean(rhos[\"ltm\"])"
   ]
  },
  {
   "cell_type": "markdown",
   "metadata": {},
   "source": [
    "## 2048-input train"
   ]
  },
  {
   "cell_type": "code",
   "execution_count": 73,
   "metadata": {},
   "outputs": [
    {
     "name": "stderr",
     "output_type": "stream",
     "text": [
      "Split 0: 100%|██████████| 200/200 [00:23<00:00,  8.44it/s]\n",
      "Split 1: 100%|██████████| 200/200 [00:23<00:00,  8.47it/s]\n",
      "Split 2: 100%|██████████| 200/200 [00:23<00:00,  8.46it/s]\n",
      "Split 3: 100%|██████████| 200/200 [00:23<00:00,  8.52it/s]\n"
     ]
    }
   ],
   "source": [
    "nets_2, los_2 = train_reg(\n",
    "    concat_pooled_output, \n",
    "    targets, \n",
    "    2048, \n",
    "    2, \n",
    "    indices, \n",
    "    SigLinNet, \n",
    "    BATCH_SIZE, \n",
    "    EPOCH, \n",
    "    lr,\n",
    "    \"both\",\n",
    "    512, 64, 32\n",
    ")"
   ]
  },
  {
   "cell_type": "code",
   "execution_count": 74,
   "metadata": {},
   "outputs": [
    {
     "data": {
      "image/png": "[encoded data removed]",
      "text/plain": [
       "<Figure size 432x288 with 1 Axes>"
      ]
     },
     "metadata": {
      "needs_background": "light"
     },
     "output_type": "display_data"
    }
   ],
   "source": [
    "for l in los_2:\n",
    "    plt.plot(l[3:])\n",
    "plt.yscale('log')"
   ]
  },
  {
   "cell_type": "markdown",
   "metadata": {},
   "source": [
    "## 2048-input test"
   ]
  },
  {
   "cell_type": "code",
   "execution_count": 76,
   "metadata": {},
   "outputs": [],
   "source": [
    "rhos_2, losses_2 = test_reg(nets_2, concat_pooled_output, targets, indices, \"both\")"
   ]
  },
  {
   "cell_type": "code",
   "execution_count": 77,
   "metadata": {},
   "outputs": [
    {
     "data": {
      "text/plain": [
       "{'stm': [0.44047708554933207,\n",
       "  0.4723136614637303,\n",
       "  0.45800487540106927,\n",
       "  0.47713459576054856],\n",
       " 'ltm': [0.2098259251643052,\n",
       "  0.23401166863995182,\n",
       "  0.21126535858501036,\n",
       "  0.2325589943398754]}"
      ]
     },
     "execution_count": 77,
     "metadata": {},
     "output_type": "execute_result"
    }
   ],
   "source": [
    "rhos_2"
   ]
  },
  {
   "cell_type": "code",
   "execution_count": 78,
   "metadata": {},
   "outputs": [
    {
     "data": {
      "text/plain": [
       "(0.46198255454367004, 0.2219154866822857)"
      ]
     },
     "execution_count": 78,
     "metadata": {},
     "output_type": "execute_result"
    }
   ],
   "source": [
    "mean(rhos_2[\"stm\"]), mean(rhos_2[\"ltm\"])"
   ]
  }
 ],
 "metadata": {
  "kernelspec": {
   "display_name": "Python 3",
   "language": "python",
   "name": "python3"
  },
  "language_info": {
   "codemirror_mode": {
    "name": "ipython",
    "version": 3
   },
   "file_extension": ".py",
   "mimetype": "text/x-python",
   "name": "python",
   "nbconvert_exporter": "python",
   "pygments_lexer": "ipython3",
   "version": "3.6.10"
  }
 },
 "nbformat": 4,
 "nbformat_minor": 4
}
