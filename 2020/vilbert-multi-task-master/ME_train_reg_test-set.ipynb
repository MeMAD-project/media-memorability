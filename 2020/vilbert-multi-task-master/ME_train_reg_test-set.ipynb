{
 "cells": [
  {
   "cell_type": "code",
   "execution_count": 1,
   "metadata": {},
   "outputs": [],
   "source": [
    "import torch\n",
    "import torch.nn as nn\n",
    "import torch.utils.data as Data\n",
    "from torch.autograd import Variable\n",
    "from statistics import mean\n",
    "import matplotlib.pyplot as plt\n",
    "import _pickle as cPickle\n",
    "from tqdm import tqdm\n",
    "from scipy.stats import spearmanr"
   ]
  },
  {
   "cell_type": "code",
   "execution_count": 2,
   "metadata": {},
   "outputs": [],
   "source": [
    "def evaluate(model, inp, target):\n",
    "    loss_func = torch.nn.MSELoss()\n",
    "    torch_dataset_val = Data.TensorDataset(inp, target)\n",
    "\n",
    "    loader_val = Data.DataLoader(\n",
    "        dataset=torch_dataset_val, \n",
    "        batch_size=VAL_BATCH_SIZE, \n",
    "        shuffle=False\n",
    "    )\n",
    "\n",
    "    dataiter_val = iter(loader_val)\n",
    "    in_, out_ = dataiter_val.next()\n",
    "\n",
    "    model.eval()\n",
    "    pred_scores = model(in_)\n",
    "\n",
    "    loss = loss_func(pred_scores, out_)\n",
    "    model.train()\n",
    "    r_1, _ = spearmanr(\n",
    "        pred_scores.cpu().detach().numpy()[:,0], \n",
    "        out_.cpu().detach().numpy()[:,0], \n",
    "        axis=0\n",
    "    )\n",
    "\n",
    "    r_2, _ = spearmanr(\n",
    "        pred_scores.cpu().detach().numpy()[:,1], \n",
    "        out_.cpu().detach().numpy()[:,1], \n",
    "        axis=0\n",
    "    )\n",
    "    \n",
    "    return r_1, r_2, loss.item()"
   ]
  },
  {
   "cell_type": "markdown",
   "metadata": {},
   "source": [
    "# train"
   ]
  },
  {
   "cell_type": "code",
   "execution_count": 3,
   "metadata": {},
   "outputs": [],
   "source": [
    "train_save_path = \"datasets/ME/out_features/train_features_NLVR2.pkl\"\n",
    "pooled_dict = cPickle.load(open(train_save_path, 'rb'))\n",
    "pooled_output_mul = pooled_dict[\"pooled_output_mul\"]\n",
    "pooled_output_sum = pooled_dict[\"pooled_output_sum\"]\n",
    "pooled_output_t = pooled_dict[\"pooled_output_t\"]\n",
    "pooled_output_v = pooled_dict[\"pooled_output_v\"]\n",
    "concat_pooled_output = pooled_dict[\"concat_pooled_output\"]\n",
    "targets = pooled_dict[\"targets\"]"
   ]
  },
  {
   "cell_type": "code",
   "execution_count": 4,
   "metadata": {},
   "outputs": [],
   "source": [
    "test_save_path = \"datasets/ME/out_features/test_features_NLVR2.pkl\"\n",
    "pooled_dict_test = cPickle.load(open(test_save_path, 'rb'))\n",
    "pooled_output_mul_test = pooled_dict_test[\"pooled_output_mul\"]\n",
    "pooled_output_sum_test = pooled_dict_test[\"pooled_output_sum\"]\n",
    "pooled_output_t_test = pooled_dict_test[\"pooled_output_t\"]\n",
    "pooled_output_v_test = pooled_dict_test[\"pooled_output_v\"]\n",
    "concat_pooled_output_test = pooled_dict_test[\"concat_pooled_output\"]\n",
    "targets_test = pooled_dict_test[\"targets\"]"
   ]
  },
  {
   "cell_type": "code",
   "execution_count": 5,
   "metadata": {},
   "outputs": [],
   "source": [
    "class SigLinNet(nn.Module):\n",
    "    def __init__(self, input_size, \n",
    "                 hidden_size_1,\n",
    "                 hidden_size_2, \n",
    "                 hidden_size_3, \n",
    "                 num_scores):\n",
    "        super(SigLinNet, self).__init__()\n",
    "        self.out = nn.Sequential(\n",
    "            nn.Linear(input_size, hidden_size_1),\n",
    "            nn.Sigmoid(),\n",
    "            nn.Linear(hidden_size_1, hidden_size_2),\n",
    "            nn.Sigmoid(),\n",
    "            nn.Linear(hidden_size_2, hidden_size_3),\n",
    "            nn.Sigmoid(),\n",
    "            nn.Linear(hidden_size_3, num_scores),\n",
    "        )\n",
    "\n",
    "    def forward(self, x):\n",
    "        return self.out(x)"
   ]
  },
  {
   "cell_type": "code",
   "execution_count": 6,
   "metadata": {},
   "outputs": [],
   "source": [
    "BATCH_SIZE = 128\n",
    "VAL_BATCH_SIZE = 2000\n",
    "EPOCH = 100\n",
    "lr = 4e-4"
   ]
  },
  {
   "cell_type": "code",
   "execution_count": 7,
   "metadata": {},
   "outputs": [
    {
     "name": "stderr",
     "output_type": "stream",
     "text": [
      "100%|██████████| 100/100 [00:15<00:00,  6.48it/s]\n"
     ]
    }
   ],
   "source": [
    "torch.manual_seed(42)\n",
    "\n",
    "torch_dataset = Data.TensorDataset(concat_pooled_output, targets)\n",
    "\n",
    "loader = Data.DataLoader(\n",
    "    dataset=torch_dataset, \n",
    "    batch_size=BATCH_SIZE, \n",
    "    shuffle=True\n",
    ")\n",
    "\n",
    "net = SigLinNet(1024*2, 512, 64, 32, 2)\n",
    "net.cuda()\n",
    "\n",
    "optimizer = torch.optim.Adam(net.parameters(), lr=lr, weight_decay=1e-4)\n",
    "loss_func = torch.nn.MSELoss()\n",
    "\n",
    "summary = {\n",
    "    \"losses\" : [],\n",
    "    \"r1s\" : [],\n",
    "    \"r2s\" : [],\n",
    "    \"eval_losses\" : []\n",
    "}\n",
    "\n",
    "net.train()\n",
    "for _ in tqdm(range(EPOCH)):\n",
    "    errors = []\n",
    "    # r1s, r2s, ls = list(), list(), list()\n",
    "    for step, (batch_in, batch_out) in enumerate(loader):\n",
    "        optimizer.zero_grad()\n",
    "\n",
    "        b_in = Variable(batch_in)\n",
    "        b_out = Variable(batch_out)\n",
    "\n",
    "        prediction = net(b_in)\n",
    "\n",
    "        loss = loss_func(prediction, b_out)\n",
    "        errors.append(loss.item())\n",
    "\n",
    "        loss.backward()\n",
    "        optimizer.step()\n",
    "        \n",
    "    \"\"\"r1, r2, _ = evaluate(net, pooled_output_mul_test, targets_test)\n",
    "    summary[\"r1s\"].append(r1)\n",
    "    summary[\"r2s\"].append(r2)\"\"\"\n",
    "    summary[\"losses\"].append(mean(errors))"
   ]
  },
  {
   "cell_type": "code",
   "execution_count": 8,
   "metadata": {},
   "outputs": [
    {
     "data": {
      "text/plain": [
       "[<matplotlib.lines.Line2D at 0x7f98a8567400>]"
      ]
     },
     "execution_count": 8,
     "metadata": {},
     "output_type": "execute_result"
    },
    {
     "data": {
      "image/png": "[encoded data removed]",
      "text/plain": [
       "<Figure size 432x288 with 1 Axes>"
      ]
     },
     "metadata": {
      "needs_background": "light"
     },
     "output_type": "display_data"
    }
   ],
   "source": [
    "plt.plot(summary[\"losses\"][3:])\n",
    "#plt.yscale('log')"
   ]
  },
  {
   "cell_type": "markdown",
   "metadata": {},
   "source": [
    "# test"
   ]
  },
  {
   "cell_type": "code",
   "execution_count": 9,
   "metadata": {},
   "outputs": [],
   "source": [
    "losses = list()\n",
    "\n",
    "torch_dataset_val = Data.TensorDataset(concat_pooled_output_test, targets_test)\n",
    "\n",
    "loader_val = Data.DataLoader(\n",
    "    dataset=torch_dataset_val, \n",
    "    batch_size=VAL_BATCH_SIZE, \n",
    "    shuffle=False\n",
    ")\n",
    "\n",
    "dataiter_val = iter(loader_val)\n",
    "in_, out_ = dataiter_val.next()\n",
    "\n",
    "net.eval()\n",
    "pred_scores = net(in_)\n",
    "\n",
    "loss = loss_func(pred_scores, out_)\n",
    "losses.append(loss.item())\n",
    "\n",
    "r_1, _ = spearmanr(\n",
    "    pred_scores.cpu().detach().numpy()[:,0], \n",
    "    out_.cpu().detach().numpy()[:,0], \n",
    "    axis=0\n",
    ")\n",
    "\n",
    "r_2, _ = spearmanr(\n",
    "    pred_scores.cpu().detach().numpy()[:,1], \n",
    "    out_.cpu().detach().numpy()[:,1], \n",
    "    axis=0\n",
    ")"
   ]
  },
  {
   "cell_type": "code",
   "execution_count": 10,
   "metadata": {},
   "outputs": [
    {
     "data": {
      "text/plain": [
       "(0.41671109171725407, 0.20942198041364313)"
      ]
     },
     "execution_count": 10,
     "metadata": {},
     "output_type": "execute_result"
    }
   ],
   "source": [
    "r_1, r_2"
   ]
  },
  {
   "cell_type": "code",
   "execution_count": null,
   "metadata": {},
   "outputs": [],
   "source": []
  }
 ],
 "metadata": {
  "kernelspec": {
   "display_name": "Python 3",
   "language": "python",
   "name": "python3"
  },
  "language_info": {
   "codemirror_mode": {
    "name": "ipython",
    "version": 3
   },
   "file_extension": ".py",
   "mimetype": "text/x-python",
   "name": "python",
   "nbconvert_exporter": "python",
   "pygments_lexer": "ipython3",
   "version": "3.6.10"
  }
 },
 "nbformat": 4,
 "nbformat_minor": 4
}
