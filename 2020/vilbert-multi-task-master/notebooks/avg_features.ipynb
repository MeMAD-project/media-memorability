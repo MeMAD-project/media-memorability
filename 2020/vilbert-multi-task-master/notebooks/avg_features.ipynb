{
 "cells": [
  {
   "cell_type": "markdown",
   "metadata": {},
   "source": [
    "# Average feature vectors and save the output on disk"
   ]
  },
  {
   "cell_type": "code",
   "execution_count": 1,
   "metadata": {},
   "outputs": [],
   "source": [
    "import glob\n",
    "import os\n",
    "import numpy as np\n",
    "import tqdm"
   ]
  },
  {
   "cell_type": "code",
   "execution_count": 2,
   "metadata": {},
   "outputs": [],
   "source": [
    "MAP_SIZE = 1099511627776\n",
    "features_dir = \"datasets/ME/features_100/dc/ME_trainval_resnext152_faster_rcnn_genome.lmdb\""
   ]
  },
  {
   "cell_type": "code",
   "execution_count": 3,
   "metadata": {},
   "outputs": [],
   "source": [
    "infiles = glob.glob(os.path.join(features_dir, \"*\"))"
   ]
  },
  {
   "cell_type": "code",
   "execution_count": 4,
   "metadata": {},
   "outputs": [
    {
     "name": "stderr",
     "output_type": "stream",
     "text": [
      "100%|██████████| 40000/40000 [03:08<00:00, 212.08it/s]\n"
     ]
    }
   ],
   "source": [
    "# check and remove files with errors\n",
    "\n",
    "count_ = {}\n",
    "trun = []\n",
    "for infile in tqdm.tqdm(infiles):\n",
    "    try:\n",
    "        reader = np.load(infile, allow_pickle=True)\n",
    "        fid = reader.item().get(\"image_id\")\n",
    "        id_ = int(fid.split('_')[0])\n",
    "        s = int(fid.split('_')[1])\n",
    "        if id_ in count_:\n",
    "            count_[id_] += 1\n",
    "        else:\n",
    "            count_[id_] = 1\n",
    "    except:\n",
    "        trun.append(os.path.splitext(os.path.basename(infile))[0])\n",
    "        os.remove(infile)"
   ]
  },
  {
   "cell_type": "code",
   "execution_count": 5,
   "metadata": {},
   "outputs": [
    {
     "data": {
      "text/plain": [
       "0"
      ]
     },
     "execution_count": 5,
     "metadata": {},
     "output_type": "execute_result"
    }
   ],
   "source": [
    "len(trun)"
   ]
  },
  {
   "cell_type": "code",
   "execution_count": 6,
   "metadata": {},
   "outputs": [
    {
     "data": {
      "text/plain": [
       "8000"
      ]
     },
     "execution_count": 6,
     "metadata": {},
     "output_type": "execute_result"
    }
   ],
   "source": [
    "len(count_)"
   ]
  },
  {
   "cell_type": "code",
   "execution_count": 37,
   "metadata": {},
   "outputs": [
    {
     "name": "stderr",
     "output_type": "stream",
     "text": [
      "100%|██████████| 40000/40000 [04:51<00:00, 137.38it/s] \n"
     ]
    }
   ],
   "source": [
    "feats = {}\n",
    "\n",
    "for infile in tqdm.tqdm(infiles):\n",
    "    reader = np.load(infile, allow_pickle=True)\n",
    "    fid = reader.item().get(\"image_id\")\n",
    "    id_ = int(fid.split('_')[0])\n",
    "    s = int(fid.split('_')[1])\n",
    "    if id_ in feats:\n",
    "        feats[id_][\"image_id\"] = str(id_)\n",
    "        # perform an average of the existing feature and the new one\n",
    "        feats[id_][\"features\"] = np.mean( np.array([ feats[id_][\"features\"], reader.item().get(\"features\") ]), axis=0 )\n",
    "    else:\n",
    "        # initialize the sample\n",
    "        feats[id_] = reader.item()"
   ]
  },
  {
   "cell_type": "code",
   "execution_count": 38,
   "metadata": {},
   "outputs": [
    {
     "data": {
      "text/plain": [
       "8000"
      ]
     },
     "execution_count": 38,
     "metadata": {},
     "output_type": "execute_result"
    }
   ],
   "source": [
    "len(feats)"
   ]
  },
  {
   "cell_type": "code",
   "execution_count": 50,
   "metadata": {},
   "outputs": [
    {
     "name": "stderr",
     "output_type": "stream",
     "text": [
      "100%|██████████| 8000/8000 [00:15<00:00, 532.59it/s] \n"
     ]
    }
   ],
   "source": [
    "features_dir = \"datasets/ME/features_100/dc/ME_trainval_resnext152_faster_rcnn_genome.lmdb/avg\"\n",
    "\n",
    "for img_id, feat in tqdm.tqdm(feats.items()):\n",
    "    file_name = str(img_id) + \".npy\"\n",
    "    np.save(os.path.join(features_dir, file_name), feat)"
   ]
  },
  {
   "cell_type": "code",
   "execution_count": null,
   "metadata": {},
   "outputs": [],
   "source": []
  }
 ],
 "metadata": {
  "kernelspec": {
   "display_name": "Python 3",
   "language": "python",
   "name": "python3"
  },
  "language_info": {
   "codemirror_mode": {
    "name": "ipython",
    "version": 3
   },
   "file_extension": ".py",
   "mimetype": "text/x-python",
   "name": "python",
   "nbconvert_exporter": "python",
   "pygments_lexer": "ipython3",
   "version": "3.6.10"
  }
 },
 "nbformat": 4,
 "nbformat_minor": 4
}
