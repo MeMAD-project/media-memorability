{
 "cells": [
  {
   "cell_type": "code",
   "execution_count": 21,
   "metadata": {},
   "outputs": [],
   "source": [
    "import numpy as np\n",
    "import pickle\n",
    "import pandas as pd\n",
    "import string\n",
    "from nltk.tokenize import RegexpTokenizer\n",
    "from nltk.stem import WordNetLemmatizer \n",
    "from tqdm.notebook import tqdm"
   ]
  },
  {
   "cell_type": "code",
   "execution_count": 22,
   "metadata": {},
   "outputs": [],
   "source": [
    "stopwords = [\"a\", \"about\", \"above\", \"after\", \"again\", \"against\", \"ain\", \"all\", \"am\", \"an\", \"and\", \"any\", \"are\", \n",
    "             \"aren\", \"aren't\", \"as\", \"at\", \"be\", \"because\", \"been\", \"before\", \"being\", \"below\", \"between\", \n",
    "             \"both\", \"but\", \"by\", \"can\", \"couldn\", \"couldn't\", \"d\", \"did\", \"didn\", \"didn't\", \"do\", \"does\", \n",
    "             \"doesn\", \"doesn't\", \"doing\", \"don\", \"don't\", \"down\", \"during\", \"each\", \"few\", \"for\", \"from\", \n",
    "             \"further\", \"had\", \"hadn\", \"hadn't\", \"has\", \"hasn\", \"hasn't\", \"have\", \"haven\", \"haven't\", \"having\", \n",
    "             \"he\", \"her\", \"here\", \"hers\", \"herself\", \"him\", \"himself\", \"his\", \"how\", \"i\", \"if\", \"in\", \"into\", \n",
    "             \"is\", \"isn\", \"isn't\", \"it\", \"it's\", \"its\", \"itself\", \"just\", \"ll\", \"m\", \"ma\", \"me\", \"mightn\", \n",
    "             \"mightn't\", \"more\", \"most\", \"mustn\", \"mustn't\", \"my\", \"myself\", \"needn\", \"needn't\", \"no\", \"nor\", \n",
    "             \"not\", \"now\", \"o\", \"of\", \"off\", \"on\", \"once\", \"only\", \"or\", \"other\", \"our\", \"ours\", \"ourselves\", \n",
    "             \"out\", \"over\", \"own\", \"re\", \"s\", \"same\", \"shan\", \"shan't\", \"she\", \"she's\", \"should\", \"should've\", \n",
    "             \"shouldn\", \"shouldn't\", \"so\", \"some\", \"such\", \"t\", \"than\", \"that\", \"that'll\", \"the\", \"their\", \n",
    "             \"theirs\", \"them\", \"themselves\", \"then\", \"there\", \"these\", \"they\", \"this\", \"those\", \"through\", \"to\",\n",
    "             \"too\", \"under\", \"until\", \"up\", \"ve\", \"very\", \"was\", \"wasn\", \"wasn't\", \"we\", \"were\", \"weren\",\n",
    "             \"weren't\", \"what\", \"when\", \"where\", \"which\", \"while\", \"who\", \"whom\", \"why\", \"will\", \"with\", \"won\",\n",
    "             \"won't\", \"wouldn\", \"wouldn't\", \"y\", \"you\", \"you'd\", \"you'll\", \"you're\", \"you've\", \"your\", \"yours\", \n",
    "             \"yourself\", \"yourselves\", \"could\", \"he'd\", \"he'll\", \"he's\", \"here's\", \"how's\", \"i'd\", \"i'll\", \"i'm\", \n",
    "             \"i've\", \"let's\", \"ought\", \"she'd\", \"she'll\", \"that's\", \"there's\", \"they'd\", \"they'll\", \"they're\", \n",
    "             \"they've\", \"we'd\", \"we'll\", \"we're\", \"we've\", \"what's\", \"when's\", \"where's\", \"who's\", \"why's\", \n",
    "             \"would\"]"
   ]
  },
  {
   "cell_type": "code",
   "execution_count": 23,
   "metadata": {},
   "outputs": [],
   "source": []
  },
  {
   "cell_type": "code",
   "execution_count": 24,
   "metadata": {},
   "outputs": [
    {
     "data": {
      "text/html": [
       "<div>\n",
       "<style scoped>\n",
       "    .dataframe tbody tr th:only-of-type {\n",
       "        vertical-align: middle;\n",
       "    }\n",
       "\n",
       "    .dataframe tbody tr th {\n",
       "        vertical-align: top;\n",
       "    }\n",
       "\n",
       "    .dataframe thead th {\n",
       "        text-align: right;\n",
       "    }\n",
       "</style>\n",
       "<table border=\"1\" class=\"dataframe\">\n",
       "  <thead>\n",
       "    <tr style=\"text-align: right;\">\n",
       "      <th></th>\n",
       "      <th>Unnamed: 0</th>\n",
       "      <th>caption</th>\n",
       "      <th>video_id</th>\n",
       "      <th>video</th>\n",
       "      <th>frame</th>\n",
       "    </tr>\n",
       "  </thead>\n",
       "  <tbody>\n",
       "    <tr>\n",
       "      <th>0</th>\n",
       "      <td>0</td>\n",
       "      <td>a man is dancing and singing in a room</td>\n",
       "      <td>202000823730_9</td>\n",
       "      <td>202000823730</td>\n",
       "      <td>9</td>\n",
       "    </tr>\n",
       "    <tr>\n",
       "      <th>1</th>\n",
       "      <td>1</td>\n",
       "      <td>a pair of skis in the air with a pair of scissors</td>\n",
       "      <td>202000823730_137</td>\n",
       "      <td>202000823730</td>\n",
       "      <td>137</td>\n",
       "    </tr>\n",
       "    <tr>\n",
       "      <th>2</th>\n",
       "      <td>2</td>\n",
       "      <td>a man is holding a tennis racket in his hand</td>\n",
       "      <td>202000823730_451</td>\n",
       "      <td>202000823730</td>\n",
       "      <td>451</td>\n",
       "    </tr>\n",
       "    <tr>\n",
       "      <th>3</th>\n",
       "      <td>3</td>\n",
       "      <td>a man is jumping and spinning in circles</td>\n",
       "      <td>202000823730_725</td>\n",
       "      <td>202000823730</td>\n",
       "      <td>725</td>\n",
       "    </tr>\n",
       "    <tr>\n",
       "      <th>4</th>\n",
       "      <td>4</td>\n",
       "      <td>a man is jumping and spinning in circles</td>\n",
       "      <td>202000823730_860</td>\n",
       "      <td>202000823730</td>\n",
       "      <td>860</td>\n",
       "    </tr>\n",
       "  </tbody>\n",
       "</table>\n",
       "</div>"
      ],
      "text/plain": [
       "   Unnamed: 0                                            caption  \\\n",
       "0           0             a man is dancing and singing in a room   \n",
       "1           1  a pair of skis in the air with a pair of scissors   \n",
       "2           2       a man is holding a tennis racket in his hand   \n",
       "3           3           a man is jumping and spinning in circles   \n",
       "4           4           a man is jumping and spinning in circles   \n",
       "\n",
       "           video_id         video  frame  \n",
       "0    202000823730_9  202000823730      9  \n",
       "1  202000823730_137  202000823730    137  \n",
       "2  202000823730_451  202000823730    451  \n",
       "3  202000823730_725  202000823730    725  \n",
       "4  202000823730_860  202000823730    860  "
      ]
     },
     "execution_count": 24,
     "metadata": {},
     "output_type": "execute_result"
    }
   ],
   "source": [
    "yle_data = pd.read_csv('memad/captions_clean-_ureilhutu.csv')\n",
    "yle_data.head()"
   ]
  },
  {
   "cell_type": "code",
   "execution_count": 25,
   "metadata": {},
   "outputs": [
    {
     "data": {
      "text/html": [
       "<div>\n",
       "<style scoped>\n",
       "    .dataframe tbody tr th:only-of-type {\n",
       "        vertical-align: middle;\n",
       "    }\n",
       "\n",
       "    .dataframe tbody tr th {\n",
       "        vertical-align: top;\n",
       "    }\n",
       "\n",
       "    .dataframe thead th {\n",
       "        text-align: right;\n",
       "    }\n",
       "</style>\n",
       "<table border=\"1\" class=\"dataframe\">\n",
       "  <thead>\n",
       "    <tr style=\"text-align: right;\">\n",
       "      <th></th>\n",
       "      <th>Unnamed: 0</th>\n",
       "      <th>caption</th>\n",
       "      <th>video_id</th>\n",
       "      <th>video</th>\n",
       "      <th>frame</th>\n",
       "    </tr>\n",
       "  </thead>\n",
       "  <tbody>\n",
       "    <tr>\n",
       "      <th>0</th>\n",
       "      <td>0</td>\n",
       "      <td>car is driving down a road</td>\n",
       "      <td>000200_23</td>\n",
       "      <td>200</td>\n",
       "      <td>23</td>\n",
       "    </tr>\n",
       "    <tr>\n",
       "      <th>1</th>\n",
       "      <td>1</td>\n",
       "      <td>man is walking down a street and then he stops</td>\n",
       "      <td>000200_83</td>\n",
       "      <td>200</td>\n",
       "      <td>83</td>\n",
       "    </tr>\n",
       "    <tr>\n",
       "      <th>2</th>\n",
       "      <td>2</td>\n",
       "      <td>car is driving down a road</td>\n",
       "      <td>000200_178</td>\n",
       "      <td>200</td>\n",
       "      <td>178</td>\n",
       "    </tr>\n",
       "    <tr>\n",
       "      <th>3</th>\n",
       "      <td>3</td>\n",
       "      <td>man is driving a car and talking to someone</td>\n",
       "      <td>000200_261</td>\n",
       "      <td>200</td>\n",
       "      <td>261</td>\n",
       "    </tr>\n",
       "    <tr>\n",
       "      <th>4</th>\n",
       "      <td>4</td>\n",
       "      <td>woman with long hair is smiling and talking</td>\n",
       "      <td>000200_324</td>\n",
       "      <td>200</td>\n",
       "      <td>324</td>\n",
       "    </tr>\n",
       "  </tbody>\n",
       "</table>\n",
       "</div>"
      ],
      "text/plain": [
       "   Unnamed: 0                                         caption     video_id  \\\n",
       "0           0                      car is driving down a road   000200_23    \n",
       "1           1  man is walking down a street and then he stops   000200_83    \n",
       "2           2                      car is driving down a road  000200_178    \n",
       "3           3     man is driving a car and talking to someone  000200_261    \n",
       "4           4     woman with long hair is smiling and talking  000200_324    \n",
       "\n",
       "   video  frame  \n",
       "0    200     23  \n",
       "1    200     83  \n",
       "2    200    178  \n",
       "3    200    261  \n",
       "4    200    324  "
      ]
     },
     "execution_count": 25,
     "metadata": {},
     "output_type": "execute_result"
    }
   ],
   "source": [
    "surrey_data = pd.read_csv('memad/Surrey_captions_clean-1.csv')\n",
    "surrey_data.head()"
   ]
  },
  {
   "cell_type": "code",
   "execution_count": 27,
   "metadata": {},
   "outputs": [],
   "source": [
    "w2v = pickle.load(open('../conceptnet/glove.6B/glove.w2v.6B.300d.pickle', 'rb'))"
   ]
  },
  {
   "cell_type": "code",
   "execution_count": 28,
   "metadata": {},
   "outputs": [
    {
     "data": {
      "application/vnd.jupyter.widget-view+json": {
       "model_id": "a608265a2da74acca15fbd1feb49ff85",
       "version_major": 2,
       "version_minor": 0
      },
      "text/plain": [
       "HBox(children=(FloatProgress(value=0.0, max=1035.0), HTML(value='')))"
      ]
     },
     "metadata": {},
     "output_type": "display_data"
    },
    {
     "name": "stdout",
     "output_type": "stream",
     "text": [
      "\n"
     ]
    }
   ],
   "source": [
    "X_w2v   = []\n",
    "\n",
    "for i, entry in tqdm(yle_data.iterrows(), total=len(yle_data)):\n",
    "    text = tokenize(entry['caption'])\n",
    "    \n",
    "    words = [word for word in text.split(' ') if word in w2v]\n",
    "    x_w2v = np.zeros([300]) if not words else np.mean([w2v[word] for word in words], axis=0)\n",
    "    \n",
    "    X_w2v.append(x_w2v)"
   ]
  },
  {
   "cell_type": "code",
   "execution_count": 33,
   "metadata": {},
   "outputs": [],
   "source": [
    "model_st = pickle.load(open('me20_svr_w2v_st_model.pickle', 'rb'))\n",
    "model_lt = pickle.load(open('me20_svr_w2v_lt_model.pickle', 'rb'))"
   ]
  },
  {
   "cell_type": "code",
   "execution_count": 34,
   "metadata": {},
   "outputs": [],
   "source": [
    "y_st_pred = model_st.predict(X_w2v)\n",
    "y_lt_pred = model_lt.predict(X_w2v)"
   ]
  },
  {
   "cell_type": "code",
   "execution_count": 36,
   "metadata": {},
   "outputs": [],
   "source": [
    "yle_data['results_st'] = y_st_pred\n",
    "yle_data['results_lt'] = y_lt_pred"
   ]
  },
  {
   "cell_type": "code",
   "execution_count": 38,
   "metadata": {},
   "outputs": [
    {
     "data": {
      "text/html": [
       "<div>\n",
       "<style scoped>\n",
       "    .dataframe tbody tr th:only-of-type {\n",
       "        vertical-align: middle;\n",
       "    }\n",
       "\n",
       "    .dataframe tbody tr th {\n",
       "        vertical-align: top;\n",
       "    }\n",
       "\n",
       "    .dataframe thead th {\n",
       "        text-align: right;\n",
       "    }\n",
       "</style>\n",
       "<table border=\"1\" class=\"dataframe\">\n",
       "  <thead>\n",
       "    <tr style=\"text-align: right;\">\n",
       "      <th></th>\n",
       "      <th>caption</th>\n",
       "      <th>video_id</th>\n",
       "      <th>video</th>\n",
       "      <th>frame</th>\n",
       "      <th>results_st</th>\n",
       "      <th>results_lt</th>\n",
       "    </tr>\n",
       "  </thead>\n",
       "  <tbody>\n",
       "    <tr>\n",
       "      <th>0</th>\n",
       "      <td>a man is dancing and singing in a room</td>\n",
       "      <td>202000823730_9</td>\n",
       "      <td>202000823730</td>\n",
       "      <td>9</td>\n",
       "      <td>0.829784</td>\n",
       "      <td>0.780054</td>\n",
       "    </tr>\n",
       "    <tr>\n",
       "      <th>1</th>\n",
       "      <td>a pair of skis in the air with a pair of scissors</td>\n",
       "      <td>202000823730_137</td>\n",
       "      <td>202000823730</td>\n",
       "      <td>137</td>\n",
       "      <td>0.830087</td>\n",
       "      <td>0.780025</td>\n",
       "    </tr>\n",
       "    <tr>\n",
       "      <th>2</th>\n",
       "      <td>a man is holding a tennis racket in his hand</td>\n",
       "      <td>202000823730_451</td>\n",
       "      <td>202000823730</td>\n",
       "      <td>451</td>\n",
       "      <td>0.829856</td>\n",
       "      <td>0.779800</td>\n",
       "    </tr>\n",
       "    <tr>\n",
       "      <th>3</th>\n",
       "      <td>a man is jumping and spinning in circles</td>\n",
       "      <td>202000823730_725</td>\n",
       "      <td>202000823730</td>\n",
       "      <td>725</td>\n",
       "      <td>0.830050</td>\n",
       "      <td>0.780002</td>\n",
       "    </tr>\n",
       "    <tr>\n",
       "      <th>4</th>\n",
       "      <td>a man is jumping and spinning in circles</td>\n",
       "      <td>202000823730_860</td>\n",
       "      <td>202000823730</td>\n",
       "      <td>860</td>\n",
       "      <td>0.830050</td>\n",
       "      <td>0.780002</td>\n",
       "    </tr>\n",
       "  </tbody>\n",
       "</table>\n",
       "</div>"
      ],
      "text/plain": [
       "                                             caption          video_id  \\\n",
       "0             a man is dancing and singing in a room    202000823730_9   \n",
       "1  a pair of skis in the air with a pair of scissors  202000823730_137   \n",
       "2       a man is holding a tennis racket in his hand  202000823730_451   \n",
       "3           a man is jumping and spinning in circles  202000823730_725   \n",
       "4           a man is jumping and spinning in circles  202000823730_860   \n",
       "\n",
       "          video  frame  results_st  results_lt  \n",
       "0  202000823730      9    0.829784    0.780054  \n",
       "1  202000823730    137    0.830087    0.780025  \n",
       "2  202000823730    451    0.829856    0.779800  \n",
       "3  202000823730    725    0.830050    0.780002  \n",
       "4  202000823730    860    0.830050    0.780002  "
      ]
     },
     "execution_count": 38,
     "metadata": {},
     "output_type": "execute_result"
    }
   ],
   "source": [
    "yle_data[['caption', 'video_id', 'video', 'frame', 'results_st', 'results_lt']].head()"
   ]
  },
  {
   "cell_type": "code",
   "execution_count": 39,
   "metadata": {},
   "outputs": [],
   "source": [
    "yle_data[['caption', 'video_id', 'video', 'frame', 'results_st', 'results_lt']].to_csv('memad/urheiluruutu_results.csv')"
   ]
  },
  {
   "cell_type": "code",
   "execution_count": 41,
   "metadata": {},
   "outputs": [
    {
     "data": {
      "application/vnd.jupyter.widget-view+json": {
       "model_id": "684ed089b18d40e0b444002bbd4ad57f",
       "version_major": 2,
       "version_minor": 0
      },
      "text/plain": [
       "HBox(children=(FloatProgress(value=0.0, max=355.0), HTML(value='')))"
      ]
     },
     "metadata": {},
     "output_type": "display_data"
    },
    {
     "name": "stdout",
     "output_type": "stream",
     "text": [
      "\n"
     ]
    }
   ],
   "source": [
    "X_w2v   = []\n",
    "\n",
    "for i, entry in tqdm(surrey_data.iterrows(), total=len(surrey_data)):\n",
    "    text = tokenize(entry['caption'])\n",
    "    \n",
    "    words = [word for word in text.split(' ') if word in w2v]\n",
    "    x_w2v = np.zeros([300]) if not words else np.mean([w2v[word] for word in words], axis=0)\n",
    "    \n",
    "    X_w2v.append(x_w2v)"
   ]
  },
  {
   "cell_type": "code",
   "execution_count": 42,
   "metadata": {},
   "outputs": [],
   "source": [
    "y_st_pred = model_st.predict(X_w2v)\n",
    "y_lt_pred = model_lt.predict(X_w2v)"
   ]
  },
  {
   "cell_type": "code",
   "execution_count": 43,
   "metadata": {},
   "outputs": [],
   "source": [
    "surrey_data['results_st'] = y_st_pred\n",
    "surrey_data['results_lt'] = y_lt_pred"
   ]
  },
  {
   "cell_type": "code",
   "execution_count": 44,
   "metadata": {},
   "outputs": [
    {
     "data": {
      "text/html": [
       "<div>\n",
       "<style scoped>\n",
       "    .dataframe tbody tr th:only-of-type {\n",
       "        vertical-align: middle;\n",
       "    }\n",
       "\n",
       "    .dataframe tbody tr th {\n",
       "        vertical-align: top;\n",
       "    }\n",
       "\n",
       "    .dataframe thead th {\n",
       "        text-align: right;\n",
       "    }\n",
       "</style>\n",
       "<table border=\"1\" class=\"dataframe\">\n",
       "  <thead>\n",
       "    <tr style=\"text-align: right;\">\n",
       "      <th></th>\n",
       "      <th>caption</th>\n",
       "      <th>video_id</th>\n",
       "      <th>video</th>\n",
       "      <th>frame</th>\n",
       "      <th>results_st</th>\n",
       "      <th>results_lt</th>\n",
       "    </tr>\n",
       "  </thead>\n",
       "  <tbody>\n",
       "    <tr>\n",
       "      <th>0</th>\n",
       "      <td>car is driving down a road</td>\n",
       "      <td>000200_23</td>\n",
       "      <td>200</td>\n",
       "      <td>23</td>\n",
       "      <td>0.830093</td>\n",
       "      <td>0.779982</td>\n",
       "    </tr>\n",
       "    <tr>\n",
       "      <th>1</th>\n",
       "      <td>man is walking down a street and then he stops</td>\n",
       "      <td>000200_83</td>\n",
       "      <td>200</td>\n",
       "      <td>83</td>\n",
       "      <td>0.829837</td>\n",
       "      <td>0.779954</td>\n",
       "    </tr>\n",
       "    <tr>\n",
       "      <th>2</th>\n",
       "      <td>car is driving down a road</td>\n",
       "      <td>000200_178</td>\n",
       "      <td>200</td>\n",
       "      <td>178</td>\n",
       "      <td>0.830093</td>\n",
       "      <td>0.779982</td>\n",
       "    </tr>\n",
       "    <tr>\n",
       "      <th>3</th>\n",
       "      <td>man is driving a car and talking to someone</td>\n",
       "      <td>000200_261</td>\n",
       "      <td>200</td>\n",
       "      <td>261</td>\n",
       "      <td>0.829979</td>\n",
       "      <td>0.779942</td>\n",
       "    </tr>\n",
       "    <tr>\n",
       "      <th>4</th>\n",
       "      <td>woman with long hair is smiling and talking</td>\n",
       "      <td>000200_324</td>\n",
       "      <td>200</td>\n",
       "      <td>324</td>\n",
       "      <td>0.829920</td>\n",
       "      <td>0.780008</td>\n",
       "    </tr>\n",
       "  </tbody>\n",
       "</table>\n",
       "</div>"
      ],
      "text/plain": [
       "                                          caption     video_id  video  frame  \\\n",
       "0                      car is driving down a road   000200_23     200     23   \n",
       "1  man is walking down a street and then he stops   000200_83     200     83   \n",
       "2                      car is driving down a road  000200_178     200    178   \n",
       "3     man is driving a car and talking to someone  000200_261     200    261   \n",
       "4     woman with long hair is smiling and talking  000200_324     200    324   \n",
       "\n",
       "   results_st  results_lt  \n",
       "0    0.830093    0.779982  \n",
       "1    0.829837    0.779954  \n",
       "2    0.830093    0.779982  \n",
       "3    0.829979    0.779942  \n",
       "4    0.829920    0.780008  "
      ]
     },
     "execution_count": 44,
     "metadata": {},
     "output_type": "execute_result"
    }
   ],
   "source": [
    "surrey_data[['caption', 'video_id', 'video', 'frame', 'results_st', 'results_lt']].head()"
   ]
  },
  {
   "cell_type": "code",
   "execution_count": 45,
   "metadata": {},
   "outputs": [],
   "source": [
    "surrey_data[['caption', 'video_id', 'video', 'frame', 'results_st', 'results_lt']].to_csv('memad/urheiluruutu_results.csv')"
   ]
  },
  {
   "cell_type": "code",
   "execution_count": null,
   "metadata": {},
   "outputs": [],
   "source": []
  }
 ],
 "metadata": {
  "kernelspec": {
   "display_name": "Python 3",
   "language": "python",
   "name": "python3"
  },
  "language_info": {
   "codemirror_mode": {
    "name": "ipython",
    "version": 3
   },
   "file_extension": ".py",
   "mimetype": "text/x-python",
   "name": "python",
   "nbconvert_exporter": "python",
   "pygments_lexer": "ipython3",
   "version": "3.7.4"
  }
 },
 "nbformat": 4,
 "nbformat_minor": 2
}
